{
  "nbformat": 4,
  "nbformat_minor": 0,
  "metadata": {
    "colab": {
      "name": "Yolo5_Hand_01.ipynb",
      "provenance": [],
      "collapsed_sections": []
    },
    "kernelspec": {
      "display_name": "Python 3",
      "name": "python3"
    },
    "language_info": {
      "name": "python"
    },
    "accelerator": "GPU"
  },
  "cells": [
    {
      "cell_type": "markdown",
      "metadata": {
        "id": "Ws0E3uncO6Ex"
      },
      "source": [
        "Yolo V5 for EgoHands数据集"
      ]
    },
    {
      "cell_type": "code",
      "metadata": {
        "colab": {
          "base_uri": "https://localhost:8080/"
        },
        "id": "MSOQoN4bO49J",
        "outputId": "c193506b-48b2-4813-f95d-31a56b509669"
      },
      "source": [
        "# 下载代码\n",
        "!git clone https://github.com/smart8986/yolov5.git"
      ],
      "execution_count": 1,
      "outputs": [
        {
          "output_type": "stream",
          "text": [
            "Cloning into 'yolov5'...\n",
            "remote: Enumerating objects: 7269, done.\u001b[K\n",
            "remote: Counting objects: 100% (391/391), done.\u001b[K\n",
            "remote: Compressing objects: 100% (253/253), done.\u001b[K\n",
            "remote: Total 7269 (delta 234), reused 244 (delta 138), pack-reused 6878\u001b[K\n",
            "Receiving objects: 100% (7269/7269), 9.22 MiB | 33.02 MiB/s, done.\n",
            "Resolving deltas: 100% (4962/4962), done.\n"
          ],
          "name": "stdout"
        }
      ]
    },
    {
      "cell_type": "code",
      "metadata": {
        "colab": {
          "base_uri": "https://localhost:8080/"
        },
        "id": "3NkxfOwtRhp1",
        "outputId": "175ba255-8605-4716-899b-3191bc1856e9"
      },
      "source": [
        "# 切换路径\n",
        "import os\n",
        "os.chdir(\"/content/yolov5\")\n",
        "!ls -al"
      ],
      "execution_count": 2,
      "outputs": [
        {
          "output_type": "stream",
          "text": [
            "total 588\n",
            "drwxr-xr-x 7 root root   4096 Jun 20 04:59 .\n",
            "drwxr-xr-x 1 root root   4096 Jun 20 04:59 ..\n",
            "-rw-r--r-- 1 root root   4951 Jun 20 04:59 CONTRIBUTING.md\n",
            "-rw-r--r-- 1 root root    870 Jun 20 04:59 convert_egohands_to_yolov5_format.py\n",
            "drwxr-xr-x 4 root root   4096 Jun 20 04:59 data\n",
            "-rw-r--r-- 1 root root  10569 Jun 20 04:59 detect.py\n",
            "-rw-r--r-- 1 root root   1698 Jun 20 04:59 Dockerfile\n",
            "-rw-r--r-- 1 root root   3617 Jun 20 04:59 .dockerignore\n",
            "-rw-r--r-- 1 root root   8408 Jun 20 04:59 egohands_dataset_clean.py\n",
            "drwxr-xr-x 8 root root   4096 Jun 20 04:59 .git\n",
            "-rw-r--r-- 1 root root     75 Jun 20 04:59 .gitattributes\n",
            "drwxr-xr-x 4 root root   4096 Jun 20 04:59 .github\n",
            "-rwxr-xr-x 1 root root   4035 Jun 20 04:59 .gitignore\n",
            "-rw-r--r-- 1 root root   5621 Jun 20 04:59 hubconf.py\n",
            "-rw-r--r-- 1 root root  35126 Jun 20 04:59 LICENSE\n",
            "drwxr-xr-x 3 root root   4096 Jun 20 04:59 models\n",
            "-rwxr-xr-x 1 root root  13564 Jun 20 04:59 README.md\n",
            "-rwxr-xr-x 1 root root    677 Jun 20 04:59 requirements.txt\n",
            "-rw-r--r-- 1 root root  17776 Jun 20 04:59 test.py\n",
            "-rw-r--r-- 1 root root  33819 Jun 20 04:59 train.py\n",
            "-rw-r--r-- 1 root root 393731 Jun 20 04:59 tutorial.ipynb\n",
            "drwxr-xr-x 6 root root   4096 Jun 20 04:59 utils\n"
          ],
          "name": "stdout"
        }
      ]
    },
    {
      "cell_type": "code",
      "metadata": {
        "colab": {
          "base_uri": "https://localhost:8080/"
        },
        "id": "ZkTCNcgcaBZ0",
        "outputId": "b63e5e7a-e94b-40c8-a8b1-9d43646d9c03"
      },
      "source": [
        "# 更新代码\n",
        "!git pull"
      ],
      "execution_count": 3,
      "outputs": [
        {
          "output_type": "stream",
          "text": [
            "Already up to date.\n"
          ],
          "name": "stdout"
        }
      ]
    },
    {
      "cell_type": "code",
      "metadata": {
        "id": "qnQLoECtWjOQ"
      },
      "source": [
        "# 解压数据集,生成标签\n",
        "!cp /content/drive/MyDrive/datasets/egohands/egohands_data.zip ./\n",
        "!python /content/yolov5/egohands_dataset_clean.py\n",
        "!python convert_egohands_to_yolov5_format.py"
      ],
      "execution_count": null,
      "outputs": []
    },
    {
      "cell_type": "code",
      "metadata": {
        "id": "WU9Dq2b3uZUH"
      },
      "source": [
        "!mkdir datasets\n",
        "!mkdir datasets/train\n",
        "!mkdir datasets/train/images\n",
        "!mkdir datasets/train/labels\n",
        "!mkdir datasets/test\n",
        "!mkdir datasets/test/images\n",
        "!mkdir datasets/test/labels\n",
        "!mv ./images/train/*.jpg datasets/train/images/\n",
        "!mv ./images/test/*.jpg datasets/test/images/\n",
        "!mv ./labels/train/* datasets/train/labels/\n",
        "!mv ./labels/test/* datasets/test/labels/"
      ],
      "execution_count": null,
      "outputs": []
    },
    {
      "cell_type": "code",
      "metadata": {
        "id": "IrSiLI_6W4rW"
      },
      "source": [
        "!pip install -qr requirements.txt"
      ],
      "execution_count": 31,
      "outputs": []
    },
    {
      "cell_type": "code",
      "metadata": {
        "colab": {
          "base_uri": "https://localhost:8080/"
        },
        "id": "943goEP-XGVl",
        "outputId": "e34b44de-b152-4f11-db77-7569daa2beaa"
      },
      "source": [
        "# \n",
        "!wandb login"
      ],
      "execution_count": 32,
      "outputs": [
        {
          "output_type": "stream",
          "text": [
            "\u001b[34m\u001b[1mwandb\u001b[0m: Currently logged in as: \u001b[33msmart8986\u001b[0m (use `wandb login --relogin` to force relogin)\n"
          ],
          "name": "stdout"
        }
      ]
    },
    {
      "cell_type": "markdown",
      "metadata": {
        "id": "ci6XN_OAwMXG"
      },
      "source": [
        "python train.py --data /home/psdz/zjx/huhuan_yolov5/data/hand.yaml --img-size 608 --batch-size 32 --batch 8 --epochs 100 --cfg /home/psdz/zjx/huhuan_yolov5/models/yolov5x.yaml --weights /home/psdz/zjx/huhuan_yolov5/weights/yolov5x.pt --device 0,1\n",
        "\n",
        "python train.py --weights yolov5.pt --data data/pikachu.yaml --hyp data/hyp.finetune.yaml --epochs 40 --img-size 320 --device 0 --batch-size 512 \n",
        "\n",
        "\n",
        "python train.py --data data/egohands.yaml --img-size 608 --batch-size 32 --batch 8 --epochs 2 --cfg yolov5s.yaml --weights yolov5.pt --hyp data/hyp.finetune.yaml"
      ]
    },
    {
      "cell_type": "code",
      "metadata": {
        "colab": {
          "base_uri": "https://localhost:8080/"
        },
        "id": "yBsZpEaVq2aF",
        "outputId": "5ffe8a70-ec65-45ff-dada-9f18d16e72b9"
      },
      "source": [
        "!python train.py --data data/egohands.yaml --img-size 608 --batch-size 32 --batch 8 --epochs 100 --cfg yolov5s.yaml --weights yolov5s.pt --cache --hyp data/hyp.finetune.yaml --device 0,1"
      ],
      "execution_count": 46,
      "outputs": [
        {
          "output_type": "stream",
          "text": [
            "\u001b[34m\u001b[1mtrain: \u001b[0mweights=yolov5s.pt, cfg=yolov5s.yaml, data=data/egohands.yaml, hyp=data/hyp.finetune.yaml, epochs=2, batch_size=8, img_size=[608], rect=False, resume=False, nosave=False, notest=False, noautoanchor=False, evolve=False, bucket=, cache_images=True, image_weights=False, device=, multi_scale=False, single_cls=False, adam=False, sync_bn=False, workers=8, project=runs/train, entity=None, name=exp, exist_ok=False, quad=False, linear_lr=False, label_smoothing=0.0, upload_dataset=False, bbox_interval=-1, save_period=-1, artifact_alias=latest, local_rank=-1\n",
            "\u001b[34m\u001b[1mgithub: \u001b[0mup to date with https://github.com/smart8986/yolov5 ✅\n",
            "YOLOv5 🚀 v5.0-221-g0ec0a50 torch 1.9.0+cu102 CPU\n",
            "\n",
            "\u001b[34m\u001b[1mhyperparameters: \u001b[0mlr0=0.0032, lrf=0.12, momentum=0.843, weight_decay=0.00036, warmup_epochs=2.0, warmup_momentum=0.5, warmup_bias_lr=0.05, box=0.0296, cls=0.243, cls_pw=0.631, obj=0.301, obj_pw=0.911, iou_t=0.2, anchor_t=2.91, fl_gamma=0.0, hsv_h=0.0138, hsv_s=0.664, hsv_v=0.464, degrees=0.373, translate=0.245, scale=0.898, shear=0.602, perspective=0.0, flipud=0.00856, fliplr=0.5, mosaic=1.0, mixup=0.243\n",
            "\u001b[34m\u001b[1mtensorboard: \u001b[0mStart with 'tensorboard --logdir runs/train', view at http://localhost:6006/\n",
            "2021-06-20 04:46:47.302157: I tensorflow/stream_executor/platform/default/dso_loader.cc:53] Successfully opened dynamic library libcudart.so.11.0\n",
            "\u001b[34m\u001b[1mwandb\u001b[0m: Currently logged in as: \u001b[33msmart8986\u001b[0m (use `wandb login --relogin` to force relogin)\n",
            "2021-06-20 04:46:50.024322: I tensorflow/stream_executor/platform/default/dso_loader.cc:53] Successfully opened dynamic library libcudart.so.11.0\n",
            "\u001b[34m\u001b[1mwandb\u001b[0m: Tracking run with wandb version 0.10.32\n",
            "\u001b[34m\u001b[1mwandb\u001b[0m: Syncing run \u001b[33mexp3\u001b[0m\n",
            "\u001b[34m\u001b[1mwandb\u001b[0m: ⭐️ View project at \u001b[34m\u001b[4mhttps://wandb.ai/smart8986/YOLOv5\u001b[0m\n",
            "\u001b[34m\u001b[1mwandb\u001b[0m: 🚀 View run at \u001b[34m\u001b[4mhttps://wandb.ai/smart8986/YOLOv5/runs/1kcoxt8u\u001b[0m\n",
            "\u001b[34m\u001b[1mwandb\u001b[0m: Run data is saved locally in /content/yolov5/wandb/run-20210620_044648-1kcoxt8u\n",
            "\u001b[34m\u001b[1mwandb\u001b[0m: Run `wandb offline` to turn off syncing.\n",
            "\n",
            "Overriding model.yaml nc=80 with nc=1\n",
            "\n",
            "                 from  n    params  module                                  arguments                     \n",
            "  0                -1  1      3520  models.common.Focus                     [3, 32, 3]                    \n",
            "  1                -1  1     18560  models.common.Conv                      [32, 64, 3, 2]                \n",
            "  2                -1  1     18816  models.common.C3                        [64, 64, 1]                   \n",
            "  3                -1  1     73984  models.common.Conv                      [64, 128, 3, 2]               \n",
            "  4                -1  1    156928  models.common.C3                        [128, 128, 3]                 \n",
            "  5                -1  1    295424  models.common.Conv                      [128, 256, 3, 2]              \n",
            "  6                -1  1    625152  models.common.C3                        [256, 256, 3]                 \n",
            "  7                -1  1   1180672  models.common.Conv                      [256, 512, 3, 2]              \n",
            "  8                -1  1    656896  models.common.SPP                       [512, 512, [5, 9, 13]]        \n",
            "  9                -1  1   1182720  models.common.C3                        [512, 512, 1, False]          \n",
            " 10                -1  1    131584  models.common.Conv                      [512, 256, 1, 1]              \n",
            " 11                -1  1         0  torch.nn.modules.upsampling.Upsample    [None, 2, 'nearest']          \n",
            " 12           [-1, 6]  1         0  models.common.Concat                    [1]                           \n",
            " 13                -1  1    361984  models.common.C3                        [512, 256, 1, False]          \n",
            " 14                -1  1     33024  models.common.Conv                      [256, 128, 1, 1]              \n",
            " 15                -1  1         0  torch.nn.modules.upsampling.Upsample    [None, 2, 'nearest']          \n",
            " 16           [-1, 4]  1         0  models.common.Concat                    [1]                           \n",
            " 17                -1  1     90880  models.common.C3                        [256, 128, 1, False]          \n",
            " 18                -1  1    147712  models.common.Conv                      [128, 128, 3, 2]              \n",
            " 19          [-1, 14]  1         0  models.common.Concat                    [1]                           \n",
            " 20                -1  1    296448  models.common.C3                        [256, 256, 1, False]          \n",
            " 21                -1  1    590336  models.common.Conv                      [256, 256, 3, 2]              \n",
            " 22          [-1, 10]  1         0  models.common.Concat                    [1]                           \n",
            " 23                -1  1   1182720  models.common.C3                        [512, 512, 1, False]          \n",
            " 24      [17, 20, 23]  1     16182  models.yolo.Detect                      [1, [[10, 13, 16, 30, 33, 23], [30, 61, 62, 45, 59, 119], [116, 90, 156, 198, 373, 326]], [128, 256, 512]]\n",
            "/usr/local/lib/python3.7/dist-packages/torch/nn/functional.py:718: UserWarning: Named tensors and all their associated APIs are an experimental feature and subject to change. Please do not use them for anything important until they are released as stable. (Triggered internally at  /pytorch/c10/core/TensorImpl.h:1156.)\n",
            "  return torch.max_pool2d(input, kernel_size, stride, padding, dilation, ceil_mode)\n",
            "Model Summary: 283 layers, 7063542 parameters, 7063542 gradients, 16.4 GFLOPs\n",
            "\n",
            "Transferred 354/362 items from yolov5s.pt\n",
            "Scaled weight_decay = 0.00036\n",
            "Optimizer groups: 62 .bias, 62 conv.weight, 59 other\n",
            "\u001b[34m\u001b[1mtrain: \u001b[0mScanning 'datasets/train/labels' images and labels...4383 found, 17 missing, 0 empty, 1 corrupted: 100% 4400/4400 [00:01<00:00, 2265.36it/s]\n",
            "\u001b[34m\u001b[1mtrain: \u001b[0mWARNING: Ignoring corrupted image and/or label datasets/train/images/CARDS_LIVINGROOM_T_B_frame_1750.jpg: duplicate labels\n",
            "\u001b[34m\u001b[1mtrain: \u001b[0mNew cache created: datasets/train/labels.cache\n",
            "\u001b[34m\u001b[1mtrain: \u001b[0mCaching images (2.7GB): 100% 4399/4399 [01:14<00:00, 58.91it/s]\n",
            "\u001b[34m\u001b[1mval: \u001b[0mScanning 'datasets/test/labels' images and labels...399 found, 1 missing, 0 empty, 0 corrupted: 100% 400/400 [00:00<00:00, 837.25it/s]\n",
            "\u001b[34m\u001b[1mval: \u001b[0mNew cache created: datasets/test/labels.cache\n",
            "\u001b[34m\u001b[1mval: \u001b[0mCaching images (0.2GB): 100% 400/400 [00:08<00:00, 46.64it/s]\n",
            "Plotting labels... \n",
            "\n",
            "\u001b[34m\u001b[1mautoanchor: \u001b[0mAnalyzing anchors... anchors/target = 3.92, Best Possible Recall (BPR) = 0.9929\n",
            "Image sizes 608 train, 608 test\n",
            "Using 2 dataloader workers\n",
            "Logging results to runs/train/exp3\n",
            "Starting training for 2 epochs...\n",
            "\n",
            "     Epoch   gpu_mem       box       obj       cls     total    labels  img_size\n",
            "       0/1        0G   0.06773   0.01179         0   0.07952        60       608:  10% 54/550 [09:57<1:29:41, 10.85s/it]Traceback (most recent call last):\n",
            "  File \"train.py\", line 638, in <module>\n",
            "    main(opt)\n",
            "  File \"train.py\", line 547, in main\n",
            "    train(opt.hyp, opt, device)\n",
            "  File \"train.py\", line 333, in train\n",
            "    scaler.scale(loss).backward()\n",
            "  File \"/usr/local/lib/python3.7/dist-packages/torch/_tensor.py\", line 255, in backward\n",
            "    torch.autograd.backward(self, gradient, retain_graph, create_graph, inputs=inputs)\n",
            "  File \"/usr/local/lib/python3.7/dist-packages/torch/autograd/__init__.py\", line 149, in backward\n",
            "    allow_unreachable=True, accumulate_grad=True)  # allow_unreachable flag\n",
            "KeyboardInterrupt\n",
            "Images sizes do not match. This will causes images to be display incorrectly in the UI.\n",
            "\n",
            "\u001b[34m\u001b[1mwandb\u001b[0m: Waiting for W&B process to finish, PID 1491\n",
            "\u001b[34m\u001b[1mwandb\u001b[0m: Program failed with code 255.  Press ctrl-c to abort syncing.\n",
            "\u001b[34m\u001b[1mwandb\u001b[0m:                                                                                \n",
            "\u001b[34m\u001b[1mwandb\u001b[0m: Find user logs for this run at: /content/yolov5/wandb/run-20210620_044648-1kcoxt8u/logs/debug.log\n",
            "\u001b[34m\u001b[1mwandb\u001b[0m: Find internal logs for this run at: /content/yolov5/wandb/run-20210620_044648-1kcoxt8u/logs/debug-internal.log\n",
            "\u001b[34m\u001b[1mwandb\u001b[0m: Run summary:\n",
            "\u001b[34m\u001b[1mwandb\u001b[0m:     _runtime 703\n",
            "\u001b[34m\u001b[1mwandb\u001b[0m:   _timestamp 1624165111\n",
            "\u001b[34m\u001b[1mwandb\u001b[0m:        _step 0\n",
            "\u001b[34m\u001b[1mwandb\u001b[0m: Run history:\n",
            "\u001b[34m\u001b[1mwandb\u001b[0m:     _runtime ▁\n",
            "\u001b[34m\u001b[1mwandb\u001b[0m:   _timestamp ▁\n",
            "\u001b[34m\u001b[1mwandb\u001b[0m:        _step ▁\n",
            "\u001b[34m\u001b[1mwandb\u001b[0m: \n",
            "\u001b[34m\u001b[1mwandb\u001b[0m: Synced 5 W&B file(s), 2 media file(s), 0 artifact file(s) and 0 other file(s)\n",
            "\u001b[34m\u001b[1mwandb\u001b[0m: \n",
            "\u001b[34m\u001b[1mwandb\u001b[0m: Synced \u001b[33mexp3\u001b[0m: \u001b[34mhttps://wandb.ai/smart8986/YOLOv5/runs/1kcoxt8u\u001b[0m\n"
          ],
          "name": "stdout"
        }
      ]
    },
    {
      "cell_type": "code",
      "metadata": {
        "id": "ra33Ay_hsJDj"
      },
      "source": [],
      "execution_count": 37,
      "outputs": []
    }
  ]
}